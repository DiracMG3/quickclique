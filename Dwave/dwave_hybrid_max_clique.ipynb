{
 "cells": [
  {
   "cell_type": "code",
   "execution_count": 9,
   "metadata": {},
   "outputs": [
    {
     "name": "stdout",
     "output_type": "stream",
     "text": [
      "Solution: sample=Sample(sample={0: 1, 1: 1, 2: 1, 3: 1, 4: 0}, energy=-4.0, num_occurrences=1)\n"
     ]
    },
    {
     "data": {
      "text/plain": [
       "{'problem': BinaryQuadraticModel({0: -1.0, 1: -1.0, 2: -1.0, 3: -1.0, 4: -1.0}, {(1, 4): 2.0, (2, 4): 2.0, (3, 4): 2.0}, 0.0, Vartype.BINARY),\n",
       " 'samples': SampleSet(rec.array([([1, 1, 1, 1, 0], -4., 1)],\n",
       "           dtype=[('sample', 'i1', (5,)), ('energy', '<f8'), ('num_occurrences', '<i4')]), [0, 1, 2, 3, 4], {}, 'BINARY')}"
      ]
     },
     "execution_count": 9,
     "metadata": {},
     "output_type": "execute_result"
    }
   ],
   "source": [
    "#source:https://github.com/dwavesystems/dwave-hybrid which itself is licensed under Apache License 2.0\n",
    "import dimod\n",
    "import hybrid\n",
    "import networkx as nx\n",
    "import scipy\n",
    "import dwave_networkx as dnx\n",
    "import numpy as np\n",
    "\n",
    "# This function performs the max clique operation but uses the hybrid instead of the max_clique function in ocean SDK\n",
    "def hybrid_max_clique(input_qubo, probsize):\n",
    "    # Construct a problem\n",
    "    bqm = dimod.BinaryQuadraticModel.from_qubo(input_qubo)\n",
    "    #bqm = dimod.BinaryQuadraticModel({}, input_qubo, 0, dimod.SPIN)\n",
    "    # definition of workflow - choosing to use hybrid workflows instead of the max_clique solver \n",
    "    #5 racing branches are defines, the interruptible tabu, and combination of 2 samplers(auto, simulator) and 2 decomposers (energy impact, random subproblem) )\n",
    "    iteration = hybrid.RacingBranches(\n",
    "        hybrid.InterruptableTabuSampler(),\n",
    "        hybrid.EnergyImpactDecomposer(size=probsize)\n",
    "        | hybrid.QPUSubproblemAutoEmbeddingSampler()\n",
    "        | hybrid.SplatComposer(),\n",
    "        hybrid.EnergyImpactDecomposer(size=probsize)\n",
    "        | hybrid.SimulatedAnnealingSubproblemSampler()\n",
    "        | hybrid.SplatComposer(),\n",
    "        hybrid.RandomSubproblemDecomposer(size=probsize)\n",
    "        | hybrid.QPUSubproblemAutoEmbeddingSampler()\n",
    "        | hybrid.SplatComposer(),\n",
    "        hybrid.RandomSubproblemDecomposer(size=probsize)\n",
    "        | hybrid.SimulatedAnnealingSubproblemSampler()\n",
    "        | hybrid.SplatComposer(),\n",
    "    ) | hybrid.ArgMin()\n",
    "    workflow = hybrid.LoopUntilNoImprovement(iteration, convergence=3)\n",
    "    # Solve the problem\n",
    "    init_state = hybrid.State.from_problem(bqm)\n",
    "    final_state = workflow.run(init_state).result()\n",
    "    # Print results\n",
    "    print(\"Solution: sample={.samples.first}\".format(final_state))\n",
    "    \n",
    "    return final_state\n",
    "\n",
    "\n",
    "##Sample array - hydrogen atom - source:https://github.com/Qiskit/qiskit-aqua\n",
    "G=np.array([\n",
    "    [0, 1, 1, 1, 1],\n",
    "    [1, 0, 1, 1, 0],\n",
    "    [1, 1, 0, 1, 0],\n",
    "    [1, 1, 1, 0, 0],\n",
    "    [1, 0, 0, 0, 0]\n",
    "])\n",
    "\n",
    "## NOTE - problem_size must be size of the input matrix\n",
    "problem_size=len(G)\n",
    "\n",
    "##runs the code\n",
    "graph = nx.Graph(G)\n",
    "graph_comp = nx.complement(graph)\n",
    "input_hammer=dnx.algorithms.independent_set.maximum_weighted_independent_set_qubo(graph_comp)\n",
    "hybrid_max_clique(input_hammer,problem_size)"
   ]
  }
 ],
 "metadata": {
  "kernelspec": {
   "display_name": "Python 3",
   "language": "python",
   "name": "python3"
  },
  "language_info": {
   "codemirror_mode": {
    "name": "ipython",
    "version": 3
   },
   "file_extension": ".py",
   "mimetype": "text/x-python",
   "name": "python",
   "nbconvert_exporter": "python",
   "pygments_lexer": "ipython3",
   "version": "3.6.8"
  }
 },
 "nbformat": 4,
 "nbformat_minor": 2
}
